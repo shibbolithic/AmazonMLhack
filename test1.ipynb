{
 "cells": [
  {
   "cell_type": "code",
   "execution_count": 1,
   "metadata": {},
   "outputs": [
    {
     "name": "stdout",
     "output_type": "stream",
     "text": [
      "                                          image_link  group_id  entity_name  \\\n",
      "0  https://m.media-amazon.com/images/I/61I9XdN6OF...    748919  item_weight   \n",
      "1  https://m.media-amazon.com/images/I/71gSRbyXmo...    916768  item_volume   \n",
      "2  https://m.media-amazon.com/images/I/61BZ4zrjZX...    459516  item_weight   \n",
      "3  https://m.media-amazon.com/images/I/612mrlqiI4...    459516  item_weight   \n",
      "4  https://m.media-amazon.com/images/I/617Tl40LOX...    731432  item_weight   \n",
      "\n",
      "     entity_value  \n",
      "0      500.0 gram  \n",
      "1         1.0 cup  \n",
      "2      0.709 gram  \n",
      "3      0.709 gram  \n",
      "4  1400 milligram  \n"
     ]
    }
   ],
   "source": [
    "import pandas as pd\n",
    "df = pd.read_csv('train.csv')\n",
    "print(df.head())"
   ]
  },
  {
   "cell_type": "code",
   "execution_count": 2,
   "metadata": {},
   "outputs": [],
   "source": [
    "import os\n",
    "import requests\n",
    "from PIL import Image, ImageFile\n",
    "import io\n",
    "\n",
    "ImageFile.LOAD_TRUNCATED_IMAGES = True\n",
    "\n",
    "# Function to fetch image from a link and open it with PIL\n",
    "def fetch_image(link):\n",
    "    try:\n",
    "        response = requests.get(link, timeout=10)\n",
    "        response.raise_for_status()  # Check for a valid response\n",
    "        img = Image.open(io.BytesIO(response.content))\n",
    "        return img\n",
    "    except Exception as e:\n",
    "        print(f\"Error fetching image: {e}\")\n",
    "        return None\n"
   ]
  },
  {
   "cell_type": "code",
   "execution_count": 3,
   "metadata": {},
   "outputs": [
    {
     "name": "stdout",
     "output_type": "stream",
     "text": [
      "Error fetching image: ('Connection aborted.', ConnectionResetError(10054, 'An existing connection was forcibly closed by the remote host', None, 10054, None))\n",
      "Failed to process image 0\n",
      "Error fetching image: ('Connection aborted.', ConnectionResetError(10054, 'An existing connection was forcibly closed by the remote host', None, 10054, None))\n",
      "Failed to process image 1\n",
      "Error fetching image: ('Connection aborted.', ConnectionResetError(10054, 'An existing connection was forcibly closed by the remote host', None, 10054, None))\n",
      "Failed to process image 2\n",
      "Error fetching image: ('Connection aborted.', ConnectionResetError(10054, 'An existing connection was forcibly closed by the remote host', None, 10054, None))\n",
      "Failed to process image 3\n",
      "Error fetching image: ('Connection aborted.', ConnectionResetError(10054, 'An existing connection was forcibly closed by the remote host', None, 10054, None))\n",
      "Failed to process image 4\n",
      "Error fetching image: ('Connection aborted.', ConnectionResetError(10054, 'An existing connection was forcibly closed by the remote host', None, 10054, None))\n",
      "Failed to process image 5\n",
      "Error fetching image: ('Connection aborted.', ConnectionResetError(10054, 'An existing connection was forcibly closed by the remote host', None, 10054, None))\n",
      "Failed to process image 6\n",
      "Error fetching image: ('Connection aborted.', ConnectionResetError(10054, 'An existing connection was forcibly closed by the remote host', None, 10054, None))\n",
      "Failed to process image 7\n",
      "Error fetching image: ('Connection aborted.', ConnectionResetError(10054, 'An existing connection was forcibly closed by the remote host', None, 10054, None))\n",
      "Failed to process image 8\n",
      "Error fetching image: ('Connection aborted.', ConnectionResetError(10054, 'An existing connection was forcibly closed by the remote host', None, 10054, None))\n",
      "Failed to process image 9\n"
     ]
    }
   ],
   "source": [
    "import os\n",
    "\n",
    "def process_images(df, download_folder, limit=10):\n",
    "    # Ensure the folder to save images exists\n",
    "    if not os.path.exists(download_folder):\n",
    "        os.makedirs(download_folder)\n",
    "    \n",
    "    # Limit the number of images to process\n",
    "    for idx, image_link in enumerate(df['image_link'][:limit]):\n",
    "        # Fetch image\n",
    "        image = fetch_image(image_link)\n",
    "        \n",
    "        if image:\n",
    "            # Save image locally (optional)\n",
    "            file_name = f\"image_{idx}.jpg\"\n",
    "            file_path = os.path.join(download_folder, file_name)\n",
    "            image.save(file_path)  # Save image as JPEG\n",
    "            print(f\"Image {idx} saved: {file_name}\")\n",
    "        else:\n",
    "            print(f\"Failed to process image {idx}\")\n",
    "\n",
    "# Call the function with a limit of 2000 images\n",
    "process_images(df, 'Images/')"
   ]
  },
  {
   "cell_type": "code",
   "execution_count": 4,
   "metadata": {},
   "outputs": [
    {
     "name": "stdout",
     "output_type": "stream",
     "text": [
      "c:\\Users\\hp\\OneDrive\\Documents\\GitHub\\AmazonMLhack\n"
     ]
    }
   ],
   "source": [
    "import os\n",
    "print(os.getcwd())  # Print the current working directory"
   ]
  },
  {
   "cell_type": "code",
   "execution_count": 5,
   "metadata": {},
   "outputs": [
    {
     "name": "stdout",
     "output_type": "stream",
     "text": [
      "tesseract\n"
     ]
    }
   ],
   "source": [
    "import pytesseract\n",
    "\n",
    "# Print the current value of tesseract_cmd\n",
    "print(pytesseract.pytesseract.tesseract_cmd)"
   ]
  },
  {
   "cell_type": "code",
   "execution_count": 6,
   "metadata": {},
   "outputs": [
    {
     "name": "stdout",
     "output_type": "stream",
     "text": [
      "Extracted Text:\n",
      "100% NATUR\n",
      "\n",
      "\n"
     ]
    }
   ],
   "source": [
    "import pytesseract\n",
    "from PIL import Image\n",
    "\n",
    "# Specify the correct path to the Tesseract executable\n",
    "pytesseract.pytesseract.tesseract_cmd = r'C:\\Program Files\\Tesseract-OCR\\tesseract.exe'\n",
    "\n",
    "def extract_text_from_image(image_path):\n",
    "    with Image.open(image_path) as img:\n",
    "        text = pytesseract.image_to_string(img)\n",
    "    return text\n",
    "\n",
    "# Ensure the image path is correct\n",
    "image_path = r'C:\\Users\\hp\\OneDrive\\Documents\\GitHub\\AmazonMLhack\\Images\\image_0.jpg'\n",
    "\n",
    "# Extract text from the image\n",
    "text = extract_text_from_image(image_path)\n",
    "print(\"Extracted Text:\")\n",
    "print(text)\n"
   ]
  },
  {
   "cell_type": "code",
   "execution_count": 11,
   "metadata": {},
   "outputs": [
    {
     "name": "stdout",
     "output_type": "stream",
     "text": [
      "Extracted Text from image_2.jpg:\n",
      "Serving Size: 1 Tablet (0.709 g) | Each serving contains (Approx. Values):\n",
      "\n",
      "Ingredient Oty, / Serving\n",
      "\n",
      "*PHOSPHOcomplex® Silybin (Sillybum marianum) 200 mg\n",
      "Dandelion (Taraxacum officinale) leaf extract - 10:1 100 mg\n",
      "Kutki (Picrorhiza kurroa)rhizome extract - 0.5% Bitters 50 mg\n",
      "Kasani (Cichorium intybus) seed extract - 1%. Bitters 25 mg\n",
      "Punarnava (Boerhavia diffusa) root extract - 0.07% alkaloids 25 mg\n",
      "Bhui amla (Phyllanthus amarus) WP extract - 0.5% Bitters 25 mg\n",
      "Amla (Phyllanthus emblica) fruit extract - 10% Tannins 25 mg\n",
      "Licorice (Glycyrrhiza glabra) root extract - 5% Glycyrrhizin 25 mg\n",
      "Vitamin E 10 mg\n",
      "Piper nigrum fruit extract — 95% Piperine 5mg\n",
      "\n",
      "Nutrients Qty. / Serving\n",
      "\n",
      "Energy 3.04 kcal\n",
      "Carbohydrate 051g\n",
      "(Sugars) 02g\n",
      "Protein 0.049\n",
      "Fat 0.099\n",
      "\n",
      "\"ZRDA values established as per ICMR 2010 for sedentary lifestyle-Men.\n",
      "**Z RDA not established by ICMR\n",
      "\n",
      "\n"
     ]
    }
   ],
   "source": [
    "import os\n",
    "import pytesseract\n",
    "from PIL import Image\n",
    "\n",
    "# Specify the correct path to the Tesseract executable\n",
    "pytesseract.pytesseract.tesseract_cmd = r'C:\\Program Files\\Tesseract-OCR\\tesseract.exe'\n",
    "\n",
    "def extract_text_from_image(image_path):\n",
    "    with Image.open(image_path) as img:\n",
    "        text = pytesseract.image_to_string(img)\n",
    "    return text\n",
    "\n",
    "def extract_text_from_specific_image(folder_path, image_name):\n",
    "    # Construct the full path for the specific image\n",
    "    image_path = os.path.join(folder_path, image_name)\n",
    "    \n",
    "    if os.path.exists(image_path):\n",
    "        # Extract text from the image\n",
    "        text = extract_text_from_image(image_path)\n",
    "        print(f\"Extracted Text from {image_name}:\")\n",
    "        print(text)\n",
    "    else:\n",
    "        print(f\"Image not found: {image_path}\")\n",
    "\n",
    "# Now, extract text from a specific image\n",
    "specific_image_name = 'image_2.jpg'  # Change this to the image you want to process\n",
    "extract_text_from_specific_image('Images/', specific_image_name)\n"
   ]
  },
  {
   "cell_type": "code",
   "execution_count": 9,
   "metadata": {},
   "outputs": [],
   "source": [
    "import re\n",
    "\n",
    "def extract_value_from_text(text, entity_name):\n",
    "    # Convert the text to lower case for case-insensitive search\n",
    "    text_lower = text.lower()\n",
    "    entity_name_lower = entity_name.lower()\n",
    "    \n",
    "    # Create a regex pattern to match the entity_name and its value\n",
    "    pattern = re.compile(rf'{re.escape(entity_name_lower)}\\s*[:\\-]*\\s*(\\d+\\.?\\d*)\\s*(\\w*)', re.IGNORECASE)\n",
    "    \n",
    "    # Search for the pattern in the text\n",
    "    match = pattern.search(text_lower)\n",
    "    \n",
    "    if match:\n",
    "        value = match.group(1)\n",
    "        unit = match.group(2)\n",
    "        return f\"{value} {unit}\" if unit else value\n",
    "    else:\n",
    "        return \"Value not found\"\n"
   ]
  }
 ],
 "metadata": {
  "kernelspec": {
   "display_name": "Python 3",
   "language": "python",
   "name": "python3"
  },
  "language_info": {
   "codemirror_mode": {
    "name": "ipython",
    "version": 3
   },
   "file_extension": ".py",
   "mimetype": "text/x-python",
   "name": "python",
   "nbconvert_exporter": "python",
   "pygments_lexer": "ipython3",
   "version": "3.12.6"
  }
 },
 "nbformat": 4,
 "nbformat_minor": 2
}
